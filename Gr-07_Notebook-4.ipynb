{
 "cells": [
  {
   "cell_type": "markdown",
   "metadata": {},
   "source": [
    "## 10. Model Monitoring"
   ]
  },
  {
   "cell_type": "markdown",
   "metadata": {},
   "source": [
    "### Import Necessary Libraries"
   ]
  },
  {
   "cell_type": "code",
   "execution_count": 5,
   "metadata": {},
   "outputs": [],
   "source": [
    "# !pip install 'alibi-detect[tensorflow]'"
   ]
  },
  {
   "cell_type": "code",
   "execution_count": null,
   "metadata": {},
   "outputs": [],
   "source": [
    "import pandas as pd\n",
    "import numpy as np\n",
    "from sklearn.preprocessing import StandardScaler\n",
    "from scipy.stats import chi2_contingency\n",
    "from alibi_detect.cd import KSDrift"
   ]
  },
  {
   "cell_type": "code",
   "execution_count": null,
   "metadata": {},
   "outputs": [
    {
     "name": "stdout",
     "output_type": "stream",
     "text": [
      "Numerical Feature Drift detected: No\n",
      "\n",
      "Feature-wise Numerical Drift Detection Results:\n",
      "          Feature   p-value  Drift Detected\n",
      "0             age  0.543973           False\n",
      "1          fnlwgt  0.970623           False\n",
      "2   education_num  0.786682           False\n",
      "3    capital_gain  1.000000           False\n",
      "4    capital_loss  1.000000           False\n",
      "5  hours_per_week  0.972583           False\n",
      "\n",
      "Feature-wise Categorical Drift Detection Results:\n",
      "          Feature   p-value  Drift Detected\n",
      "0       workclass  0.014682            True\n",
      "1       education  0.171550           False\n",
      "2  marital_status  0.756408           False\n",
      "3      occupation  0.000132            True\n",
      "4    relationship  0.054910           False\n",
      "5            race  0.533803           False\n",
      "6             sex  0.526395           False\n",
      "7  native_country  0.007372            True\n",
      "8          income  1.000000           False\n",
      "\n",
      "Warning: Data drift detected! Consider retraining the model.\n"
     ]
    }
   ],
   "source": [
    "# Load Training and Production Data from GitHub\n",
    "train_url = \"https://raw.githubusercontent.com/PatelNisarg28/MLOps_Adult_Income/main/datasets/adult_income_train.parquet\"\n",
    "prod_url = \"https://raw.githubusercontent.com/PatelNisarg28/MLOps_Adult_Income/main/datasets/adult_income_prod.parquet\"\n",
    "\n",
    "# Read the datasets\n",
    "train_df = pd.read_parquet(train_url)\n",
    "prod_df = pd.read_parquet(prod_url)\n",
    "\n",
    "# Ensure both datasets have the same structure\n",
    "assert train_df.columns.equals(prod_df.columns), \"Mismatch in dataset columns!\"\n",
    "\n",
    "# Select Numerical Features and Standardize Data\n",
    "numerical_features = train_df.select_dtypes(include=['int64', 'float64']).columns\n",
    "categorical_features = train_df.select_dtypes(include=['object', 'category']).columns\n",
    "\n",
    "# Check if numerical features exist\n",
    "if numerical_features.empty:\n",
    "    raise ValueError(\"No numerical features found in the dataset!\")\n",
    "\n",
    "# Standardize the numerical data\n",
    "scaler = StandardScaler()\n",
    "train_scaled = scaler.fit_transform(train_df[numerical_features])\n",
    "prod_scaled = scaler.transform(prod_df[numerical_features])\n",
    "\n",
    "# Initialize and Run the KSDrift Detection Test for Numerical Features\n",
    "cd = KSDrift(train_scaled, p_val=0.05)  # Set significance level to 5%\n",
    "\n",
    "# Perform drift detection\n",
    "preds = cd.predict(prod_scaled)\n",
    "\n",
    "# Print drift detection result for numerical features\n",
    "drift_detected = preds['data']['is_drift']\n",
    "print(f\"Numerical Feature Drift detected: {'Yes' if drift_detected else 'No'}\")\n",
    "\n",
    "# Create a DataFrame to display Feature-Level Drift Results\n",
    "numerical_drift_results = pd.DataFrame({\n",
    "    \"Feature\": numerical_features,\n",
    "    \"p-value\": preds[\"data\"][\"p_val\"],\n",
    "    \"Drift Detected\": np.array(preds[\"data\"][\"p_val\"]) < 0.05\n",
    "})\n",
    "\n",
    "print(\"\\nFeature-wise Numerical Drift Detection Results:\")\n",
    "print(numerical_drift_results)\n",
    "\n",
    "# Chi-Square Test for Categorical Feature Drift\n",
    "categorical_drift_results = []\n",
    "for feature in categorical_features:\n",
    "    train_counts = train_df[feature].value_counts(normalize=True)\n",
    "    prod_counts = prod_df[feature].value_counts(normalize=True)\n",
    "    \n",
    "    # Align both distributions\n",
    "    all_categories = set(train_counts.index).union(set(prod_counts.index))\n",
    "    train_counts = train_counts.reindex(all_categories, fill_value=0)\n",
    "    prod_counts = prod_counts.reindex(all_categories, fill_value=0)\n",
    "    \n",
    "    # Create contingency table\n",
    "    contingency_table = np.array([train_counts, prod_counts]) * len(train_df)\n",
    "    \n",
    "    # Perform Chi-Square Test\n",
    "    chi2_stat, p_val, _, _ = chi2_contingency(contingency_table)\n",
    "    categorical_drift_results.append((feature, p_val, p_val < 0.05))\n",
    "\n",
    "# Convert results to DataFrame\n",
    "categorical_drift_results_df = pd.DataFrame(categorical_drift_results, columns=[\"Feature\", \"p-value\", \"Drift Detected\"])\n",
    "\n",
    "print(\"\\nFeature-wise Categorical Drift Detection Results:\")\n",
    "print(categorical_drift_results_df)\n",
    "\n",
    "# Final Interpretation\n",
    "if drift_detected or (categorical_drift_results_df[\"Drift Detected\"].any()):\n",
    "    print(\"\\nWarning: Data drift detected! Consider retraining the model.\")\n",
    "else:\n",
    "    print(\"\\nNo significant drift detected. Model is stable.\")"
   ]
  }
 ],
 "metadata": {
  "kernelspec": {
   "display_name": "base",
   "language": "python",
   "name": "python3"
  },
  "language_info": {
   "codemirror_mode": {
    "name": "ipython",
    "version": 3
   },
   "file_extension": ".py",
   "mimetype": "text/x-python",
   "name": "python",
   "nbconvert_exporter": "python",
   "pygments_lexer": "ipython3",
   "version": "3.12.8"
  }
 },
 "nbformat": 4,
 "nbformat_minor": 2
}
