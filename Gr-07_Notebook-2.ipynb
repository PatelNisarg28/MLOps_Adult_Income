{
 "cells": [
  {
   "cell_type": "markdown",
   "metadata": {},
   "source": [
    "## 8. Model Deployment Using FastAPI"
   ]
  },
  {
   "cell_type": "markdown",
   "metadata": {},
   "source": [
    "### Import Necessary Libraries"
   ]
  },
  {
   "cell_type": "code",
   "execution_count": 12,
   "metadata": {},
   "outputs": [],
   "source": [
    "import wandb\n",
    "import os\n",
    "import nest_asyncio\n",
    "from fastapi import FastAPI\n",
    "from pydantic import BaseModel, Field\n",
    "import joblib\n",
    "import pandas as pd\n",
    "import uvicorn"
   ]
  },
  {
   "cell_type": "code",
   "execution_count": 13,
   "metadata": {},
   "outputs": [
    {
     "name": "stderr",
     "output_type": "stream",
     "text": [
      "\u001b[34m\u001b[1mwandb\u001b[0m:   1 of 1 files downloaded.  \n"
     ]
    },
    {
     "name": "stdout",
     "output_type": "stream",
     "text": [
      "✅ Best model with highest Test Accuracy downloaded to: /Users/nisarg/Documents/JIO INSTITUTE/Quarter4/ML Engineering/mlops-adult-income/artifacts/Gradient_Boosting:v0\n"
     ]
    }
   ],
   "source": [
    "ENTITY = \"nisarg-patel2815-jio-institute\"\n",
    "PROJECT = \"MLOps_Adult_Income\"\n",
    "\n",
    "api = wandb.Api()\n",
    "\n",
    "# Fetch all runs in the project\n",
    "runs = api.runs(f\"{ENTITY}/{PROJECT}\")\n",
    "\n",
    "# Find the run with the highest Test Accuracy\n",
    "best_run = max(runs, key=lambda run: run.summary.get(\"Test Accuracy\", 0))\n",
    "\n",
    "# Fetch the best model artifact from the best run\n",
    "artifacts = [artifact for artifact in best_run.logged_artifacts()]\n",
    "\n",
    "if artifacts:\n",
    "    best_model_artifact = artifacts[0]  # Assuming first artifact is the model\n",
    "    best_model_path = best_model_artifact.download()\n",
    "    print(f\"✅ Best model with highest Test Accuracy downloaded to: {best_model_path}\")\n",
    "else:\n",
    "    print(\"⚠️ No model artifacts found in the best run.\")\n"
   ]
  },
  {
   "cell_type": "code",
   "execution_count": null,
   "metadata": {},
   "outputs": [],
   "source": [
    "# Apply nest_asyncio to allow FastAPI to run inside Jupyter\n",
    "nest_asyncio.apply()\n",
    "\n",
    "# Initialize FastAPI app\n",
    "app = FastAPI()\n",
    "\n",
    "# Define path to downloaded model\n",
    "if \"model\" not in globals():\n",
    "    model_file = None\n",
    "    for root, _, files in os.walk(best_model_path):\n",
    "        for file in files:\n",
    "            if file.endswith(\".pkl\") or file.endswith(\".joblib\"):\n",
    "                model_file = os.path.join(root, file)\n",
    "                break\n",
    "\n",
    "    if model_file is None:\n",
    "        raise Exception(\"⚠️ No valid model file found in the downloaded artifacts.\")\n",
    "\n",
    "    # Load the model dynamically\n",
    "    model = joblib.load(model_file)\n",
    "    print(f\"✅ Model loaded from: {model_file}\")\n",
    "else:\n",
    "    print(\"✅ Model already loaded, skipping reloading.\")\n",
    "\n",
    "# Define input data schema using Pydantic\n",
    "class InputData(BaseModel):\n",
    "    age: int = Field(..., ge=17, description=\"Age must be at least 17\")\n",
    "    workclass: str\n",
    "    fnlwgt: int\n",
    "    education: str\n",
    "    education_num: int = Field(..., ge=1, le=16, description=\"Education num must be between 1 and 16\")\n",
    "    marital_status: str\n",
    "    occupation: str\n",
    "    relationship: str\n",
    "    race: str\n",
    "    sex: str\n",
    "    capital_gain: int = Field(..., ge=0, description=\"Capital gain must be ≥ 0\")\n",
    "    capital_loss: int = Field(..., ge=0, description=\"Capital loss must be ≥ 0\")\n",
    "    hours_per_week: int = Field(..., ge=1, le=99, description=\"Hours per week must be between 1 and 99\")\n",
    "    native_country: str\n",
    "\n",
    "# Define mapping for model prediction output\n",
    "income_mapping = {0: \"<=50K\", 1: \">50K\"}\n",
    "\n",
    "@app.get(\"/\")\n",
    "def home():\n",
    "    return {\"message\": \"Welcome to the FastAPI Income Prediction API! Use /predict to get predictions.\"}\n",
    "\n",
    "# Prediction endpoint\n",
    "@app.post(\"/predict\")\n",
    "def predict(data: InputData):\n",
    "    try:\n",
    "        # Convert input data to a DataFrame\n",
    "        input_df = pd.DataFrame([data.model_dump()])\n",
    "        \n",
    "        # Make prediction\n",
    "        prediction = model.predict(input_df)\n",
    "\n",
    "        # Check if prediction is already a string\n",
    "        if isinstance(prediction[0], str):\n",
    "            predicted_income = prediction[0]  # Use as is if already a string\n",
    "        else:\n",
    "            predicted_income = income_mapping[prediction[0]]  # Convert numerical prediction to label\n",
    "\n",
    "        return {\"predicted_income\": predicted_income}\n",
    "\n",
    "    except Exception as e:\n",
    "        return {\"error\": str(e)}\n",
    "\n",
    "# Run FastAPI inside Jupyter Notebook\n",
    "uvicorn.run(app, host=\"127.0.0.1\", port=8000)\n"
   ]
  },
  {
   "cell_type": "code",
   "execution_count": null,
   "metadata": {},
   "outputs": [],
   "source": []
  }
 ],
 "metadata": {
  "kernelspec": {
   "display_name": "base",
   "language": "python",
   "name": "python3"
  },
  "language_info": {
   "codemirror_mode": {
    "name": "ipython",
    "version": 3
   },
   "file_extension": ".py",
   "mimetype": "text/x-python",
   "name": "python",
   "nbconvert_exporter": "python",
   "pygments_lexer": "ipython3",
   "version": "3.12.8"
  }
 },
 "nbformat": 4,
 "nbformat_minor": 2
}
