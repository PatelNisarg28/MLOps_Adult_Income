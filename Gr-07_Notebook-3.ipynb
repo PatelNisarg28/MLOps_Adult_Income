{
 "cells": [
  {
   "cell_type": "markdown",
   "metadata": {},
   "source": [
    "## 9. User Interface Development with Streamlit "
   ]
  },
  {
   "cell_type": "markdown",
   "metadata": {},
   "source": [
    "### Import Necessary Libraries"
   ]
  },
  {
   "cell_type": "code",
   "execution_count": 13,
   "metadata": {},
   "outputs": [],
   "source": [
    "import streamlit as st\n",
    "import requests"
   ]
  },
  {
   "cell_type": "code",
   "execution_count": null,
   "metadata": {},
   "outputs": [],
   "source": [
    "# FastAPI endpoint URL\n",
    "FASTAPI_URL = \"http://127.0.0.1:8000/predict\"\n",
    "\n",
    "# Dropdown options based on the dataset\n",
    "WORKCLASS_OPTIONS = [\"Self-emp-not-inc\", \"Private\", \"State-gov\", \"Federal-gov\", \"Local-gov\", \"Self-emp-inc\", \"Without-pay\", \"Never-worked\", \"None\"]\n",
    "EDUCATION_OPTIONS = [\"Bachelors\", \"HS-grad\", \"11th\", \"Masters\", \"9th\", \"Some-college\", \"Assoc-acdm\", \"Assoc-voc\", \"7th-8th\", \"Doctorate\", \"Prof-school\", \"5th-6th\", \"10th\", \"1st-4th\", \"Preschool\", \"12th\", \"None\"]\n",
    "MARITAL_STATUS_OPTIONS = [\"Married-civ-spouse\", \"Divorced\", \"Married-spouse-absent\", \"Never-married\", \"Separated\", \"Married-AF-spouse\", \"Widowed\", \"None\"]\n",
    "OCCUPATION_OPTIONS = [\"Exec-managerial\", \"Handlers-cleaners\", \"Prof-specialty\", \"Other-service\", \"Adm-clerical\", \"Sales\", \"Craft-repair\", \"Transport-moving\", \"Farming-fishing\", \"Machine-op-inspct\", \"Tech-support\", \"Protective-serv\", \"Armed-Forces\", \"Priv-house-serv\", \"None\"]\n",
    "RELATIONSHIP_OPTIONS = [\"Husband\", \"Not-in-family\", \"Wife\", \"Own-child\", \"Unmarried\", \"Other-relative\", \"None\"]\n",
    "RACE_OPTIONS = [\"White\", \"Black\", \"Asian-Pac-Islander\", \"Amer-Indian-Eskimo\", \"Other\", \"None\"]\n",
    "SEX_OPTIONS = [\"Male\", \"Female\", \"None\"]\n",
    "NATIVE_COUNTRY_OPTIONS = [\"United-States\", \"Cuba\", \"Jamaica\", \"India\", \"Mexico\", \"South\", \"Puerto-Rico\", \"Honduras\", \"England\", \"Canada\", \"Germany\", \"Iran\", \"Philippines\", \"Italy\", \"Poland\", \"Columbia\", \"Cambodia\", \"Thailand\", \"Ecuador\", \"Laos\", \"Taiwan\", \"Haiti\", \"Portugal\", \"Dominican-Republic\", \"El-Salvador\", \"France\", \"Guatemala\", \"China\", \"Japan\", \"Yugoslavia\", \"Peru\", \"Outlying-US(Guam-USVI-etc)\", \"Scotland\", \"Trinadad&Tobago\", \"Greece\", \"Nicaragua\", \"Vietnam\", \"Hong\", \"Ireland\", \"Hungary\", \"Holand-Netherlands\", \"None\"]\n",
    "\n",
    "def main():\n",
    "    st.title(\"Income Prediction App\")\n",
    "    st.write(\"Enter the details below to predict income category.\")\n",
    "\n",
    "    # User input fields\n",
    "    age = st.number_input(\"Age\", min_value=17, step=1)\n",
    "    workclass = st.selectbox(\"Workclass\", WORKCLASS_OPTIONS)\n",
    "    fnlwgt = st.number_input(\"Final Weight\", min_value=1, step=1)\n",
    "    education = st.selectbox(\"Education\", EDUCATION_OPTIONS)\n",
    "    education_num = st.slider(\"Education Number\", min_value=1, max_value=16, step=1)\n",
    "    marital_status = st.selectbox(\"Marital Status\", MARITAL_STATUS_OPTIONS)\n",
    "    occupation = st.selectbox(\"Occupation\", OCCUPATION_OPTIONS)\n",
    "    relationship = st.selectbox(\"Relationship\", RELATIONSHIP_OPTIONS)\n",
    "    race = st.selectbox(\"Race\", RACE_OPTIONS)\n",
    "    sex = st.selectbox(\"Sex\", SEX_OPTIONS)\n",
    "    capital_gain = st.number_input(\"Capital Gain\", min_value=0, step=1)\n",
    "    capital_loss = st.number_input(\"Capital Loss\", min_value=0, step=1)\n",
    "    hours_per_week = st.slider(\"Hours per Week\", min_value=1, max_value=99, step=1)\n",
    "    native_country = st.selectbox(\"Native Country\", NATIVE_COUNTRY_OPTIONS)\n",
    "\n",
    "    if st.button(\"Predict Income\"):\n",
    "        # Prepare data payload\n",
    "        input_data = {\n",
    "            \"age\": age,\n",
    "            \"workclass\": workclass,\n",
    "            \"fnlwgt\": fnlwgt,\n",
    "            \"education\": education,\n",
    "            \"education_num\": education_num,\n",
    "            \"marital_status\": marital_status,\n",
    "            \"occupation\": occupation,\n",
    "            \"relationship\": relationship,\n",
    "            \"race\": race,\n",
    "            \"sex\": sex,\n",
    "            \"capital_gain\": capital_gain,\n",
    "            \"capital_loss\": capital_loss,\n",
    "            \"hours_per_week\": hours_per_week,\n",
    "            \"native_country\": native_country\n",
    "        }\n",
    "\n",
    "        # Send request to FastAPI\n",
    "        try:\n",
    "            response = requests.post(FASTAPI_URL, json=input_data)\n",
    "            result = response.json()\n",
    "            if \"predicted_income\" in result:\n",
    "                st.success(f\"Predicted Income: {result['predicted_income']}\")\n",
    "            else:\n",
    "                st.error(f\"Error: {result.get('error', 'Unknown error')}\")\n",
    "        except Exception as e:\n",
    "            st.error(f\"Failed to connect to FastAPI: {str(e)}\")\n",
    "\n",
    "if __name__ == \"__main__\":\n",
    "    main()    "
   ]
  },
  {
   "cell_type": "code",
   "execution_count": null,
   "metadata": {},
   "outputs": [],
   "source": [
    "#  jupyter nbconvert --to script --output streamlit Gr-07_Notebook-3.ipynb"
   ]
  },
  {
   "cell_type": "code",
   "execution_count": null,
   "metadata": {},
   "outputs": [],
   "source": [
    "!streamlit run streamlit.py"
   ]
  }
 ],
 "metadata": {
  "kernelspec": {
   "display_name": "base",
   "language": "python",
   "name": "python3"
  },
  "language_info": {
   "codemirror_mode": {
    "name": "ipython",
    "version": 3
   },
   "file_extension": ".py",
   "mimetype": "text/x-python",
   "name": "python",
   "nbconvert_exporter": "python",
   "pygments_lexer": "ipython3",
   "version": "3.12.8"
  }
 },
 "nbformat": 4,
 "nbformat_minor": 2
}
